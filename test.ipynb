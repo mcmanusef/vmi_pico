{
 "cells": [
  {
   "metadata": {
    "ExecuteTime": {
     "end_time": "2024-10-17T19:13:58.718770Z",
     "start_time": "2024-10-17T19:13:58.162647Z"
    }
   },
   "cell_type": "code",
   "source": [
    "import numpy as np\n",
    "import matplotlib.pyplot as plt\n",
    "import correlate_vmi_pico as cvp\n",
    "import importlib\n",
    "import os\n",
    "import scipy\n",
    "\n",
    "importlib.reload(cvp)\n",
    "\n",
    "timepix_file=r\"J:\\ctgroup\\Edward\\DATA\\VMI\\20240730\\firstNanoData_06_30min.h5\"\n",
    "timepix_file=r\"J:\\ctgroup\\Edward\\DATA\\VMI\\20240730\\firstNanoData_06_000000.h5\"\n",
    "# out_file=r\"J:\\ctgroup\\Edward\\DATA\\VMI\\20240730\\firstNanoData_Vth600mV_30min_combined.h5\"\n",
    "# pico_file=r\"J:\\ctgroup\\Edward\\DATA\\VMI\\20240730\\firstNanoData_Vth600mV_30min.h5\"\n",
    "pico_file=r\"J:\\ctgroup\\Edward\\DATA\\VMI\\20240730\\firstNanoData_Vth600mV_real.h5\"\n",
    "save_file=r\"D:\\Data\\nanodat3.mat\""
   ],
   "id": "6268c7206558195d",
   "outputs": [],
   "execution_count": 1
  },
  {
   "metadata": {
    "ExecuteTime": {
     "end_time": "2024-10-17T19:14:36.281205Z",
     "start_time": "2024-10-17T19:13:58.718770Z"
    }
   },
   "cell_type": "code",
   "source": [
    "if not os.path.exists(save_file):\n",
    "    x,y,t,tot,laser_times,ion_times=cvp.load_timepix_data(timepix_file)\n",
    "    np_hits=cvp.find_potential_vmi_np_hits(ion_times)\n",
    "    pico_hits=cvp.load_pico_data(pico_file)\n",
    "\n",
    "    data=dict()\n",
    "    data[\"x\"]=x\n",
    "    data[\"y\"]=y\n",
    "    data[\"t\"]=t\n",
    "    data[\"tot\"]=tot\n",
    "    data[\"laser_times\"]=laser_times\n",
    "    data[\"ion_times\"]=ion_times\n",
    "    data[\"np_hits\"]=np_hits\n",
    "    #tToF, VaToF, VbToF, epochtime=pico_hit\n",
    "    data[\"tToF\"]=[pico_hit[0] for pico_hit in pico_hits]\n",
    "    data[\"VaToF\"]=[pico_hit[1] for pico_hit in pico_hits]\n",
    "    data[\"VbToF\"]=[pico_hit[2] for pico_hit in pico_hits]\n",
    "    data[\"epochtime\"]=[pico_hit[3] for pico_hit in pico_hits]\n",
    "    scipy.io.savemat(save_file, data)\n",
    "else:\n",
    "    data=scipy.io.loadmat(save_file, squeeze_me=True)\n",
    "    x=data[\"x\"]\n",
    "    y=data[\"y\"]\n",
    "    t=data[\"t\"]\n",
    "    tot=data[\"tot\"]\n",
    "    laser_times=data[\"laser_times\"]\n",
    "    ion_times=data[\"ion_times\"]\n",
    "    np_hits=data[\"np_hits\"].flatten()\n",
    "    pico_hits=[(tToF,VaToF,VbToF,epochtime) for tToF,VaToF,VbToF,epochtime in zip(data[\"tToF\"],data[\"VaToF\"],data[\"VbToF\"],data[\"epochtime\"])]"
   ],
   "id": "66cc9a2d31dbaebb",
   "outputs": [
    {
     "name": "stdout",
     "output_type": "stream",
     "text": [
      "max(t)=26764426070.3125\n"
     ]
    }
   ],
   "execution_count": 2
  },
  {
   "metadata": {
    "ExecuteTime": {
     "end_time": "2024-10-17T19:22:15.742373Z",
     "start_time": "2024-10-17T19:20:07.964114Z"
    }
   },
   "cell_type": "code",
   "source": [
    "fixed_diff=-2.8e9\n",
    "tolerance=1e19\n",
    "fit_qualities=[]\n",
    "diffs=[]\n",
    "tpx_idxs=[]\n",
    "range_of_interest=(0,100)\n",
    "for i,pico_hit in enumerate(pico_hits):\n",
    "    print(f\"Processing pico hit {i}\")\n",
    "    if i < range_of_interest[0]:\n",
    "        continue\n",
    "    tToF, VaToF, VbToF, epochtime=pico_hit\n",
    "    tpx_idx,pico_time,fit_quality=cvp.find_pico_time(VbToF,tToF,laser_times,ion_times,np_hits,\n",
    "                                     time_range=(epochtime+fixed_diff-tolerance,epochtime+fixed_diff+tolerance),\n",
    "                                         plotting=False, yield_fit_quality=True)\n",
    "    print(f\"Time of pico hit {i}: {pico_time/1e9:.3f} {tpx_idx=}\")\n",
    "    print(f\"Epoch time: {epochtime/1e9:.3f}, TPX time: {np_hits[tpx_idx]/1e9:.3f}, Diff: {(epochtime-np_hits[tpx_idx])/1e9:.3f}\")\n",
    "    print(f\"Fit quality: {fit_quality}\")\n",
    "    diffs.append(epochtime-np_hits[tpx_idx])\n",
    "    fit_qualities.append(fit_quality)\n",
    "    tpx_idxs.append(tpx_idx)\n",
    "    if i >= range_of_interest[1]:\n",
    "        break\n",
    "\n",
    "    "
   ],
   "id": "f3bb147fd37e43f7",
   "outputs": [
    {
     "name": "stdout",
     "output_type": "stream",
     "text": [
      "Processing pico hit 0\n",
      "Time of pico hit 0: 66.046 tpx_idx=223\n",
      "Epoch time: 5.337, TPX time: 66.046, Diff: -60.709\n",
      "Fit quality: 0.6052631578947368\n",
      "Processing pico hit 1\n",
      "Time of pico hit 1: 66.877 tpx_idx=227\n",
      "Epoch time: 6.337, TPX time: 66.877, Diff: -60.540\n",
      "Fit quality: 0.7105263157894737\n",
      "Processing pico hit 2\n",
      "Time of pico hit 2: 2.623 tpx_idx=6\n",
      "Epoch time: 21.338, TPX time: 2.623, Diff: 18.715\n",
      "Fit quality: 0.8421052631578947\n",
      "Processing pico hit 3\n",
      "Time of pico hit 3: 3.798 tpx_idx=10\n",
      "Epoch time: 26.338, TPX time: 3.798, Diff: 22.541\n",
      "Fit quality: 0.9\n",
      "Processing pico hit 4\n",
      "Time of pico hit 4: 21.396 tpx_idx=78\n",
      "Epoch time: 27.337, TPX time: 21.396, Diff: 5.941\n",
      "Fit quality: 0.8\n",
      "Processing pico hit 5\n",
      "Time of pico hit 5: 4.171 tpx_idx=12\n",
      "Epoch time: 28.337, TPX time: 4.171, Diff: 24.166\n",
      "Fit quality: 0.9736842105263158\n",
      "Processing pico hit 6\n",
      "Time of pico hit 6: 4.459 tpx_idx=13\n",
      "Epoch time: 29.338, TPX time: 4.459, Diff: 24.879\n",
      "Fit quality: 0.972972972972973\n",
      "Processing pico hit 7\n",
      "Time of pico hit 7: 24.725 tpx_idx=85\n",
      "Epoch time: 31.337, TPX time: 24.725, Diff: 6.612\n",
      "Fit quality: 0.8823529411764706\n",
      "Processing pico hit 8\n",
      "Time of pico hit 8: 5.504 tpx_idx=21\n",
      "Epoch time: 35.338, TPX time: 5.504, Diff: 29.834\n",
      "Fit quality: 0.9285714285714286\n",
      "Processing pico hit 9\n",
      "Time of pico hit 9: 6.787 tpx_idx=24\n",
      "Epoch time: 41.338, TPX time: 6.787, Diff: 34.551\n",
      "Fit quality: 0.7755102040816326\n",
      "Processing pico hit 10\n",
      "Time of pico hit 10: 6.823 tpx_idx=25\n",
      "Epoch time: 41.338, TPX time: 6.823, Diff: 34.515\n",
      "Fit quality: 0.8043478260869565\n",
      "Processing pico hit 11\n",
      "Time of pico hit 11: 7.734 tpx_idx=30\n",
      "Epoch time: 46.338, TPX time: 7.734, Diff: 38.604\n",
      "Fit quality: 0.9285714285714286\n",
      "Processing pico hit 12\n",
      "Time of pico hit 12: 8.758 tpx_idx=35\n",
      "Epoch time: 51.339, TPX time: 8.758, Diff: 42.581\n",
      "Fit quality: 0.90625\n",
      "Processing pico hit 13\n",
      "Time of pico hit 13: 8.802 tpx_idx=36\n",
      "Epoch time: 51.339, TPX time: 8.802, Diff: 42.537\n",
      "Fit quality: 0.9714285714285714\n",
      "Processing pico hit 14\n",
      "Time of pico hit 14: 46.480 tpx_idx=153\n",
      "Epoch time: 53.339, TPX time: 46.480, Diff: 6.859\n",
      "Fit quality: 0.9444444444444444\n",
      "Processing pico hit 15\n",
      "Time of pico hit 15: 9.267 tpx_idx=38\n",
      "Epoch time: 53.339, TPX time: 9.267, Diff: 44.072\n",
      "Fit quality: 1.0\n",
      "Processing pico hit 16\n",
      "Time of pico hit 16: 52.922 tpx_idx=173\n",
      "Epoch time: 59.339, TPX time: 52.922, Diff: 6.416\n",
      "Fit quality: 0.8918918918918919\n",
      "Processing pico hit 17\n",
      "Time of pico hit 17: 11.127 tpx_idx=49\n",
      "Epoch time: 62.339, TPX time: 11.127, Diff: 51.212\n",
      "Fit quality: 0.9047619047619048\n",
      "Processing pico hit 18\n",
      "Time of pico hit 18: 11.470 tpx_idx=50\n",
      "Epoch time: 64.339, TPX time: 11.470, Diff: 52.869\n",
      "Fit quality: 0.8888888888888888\n",
      "Processing pico hit 19\n",
      "Time of pico hit 19: 13.560 tpx_idx=57\n",
      "Epoch time: 74.340, TPX time: 13.560, Diff: 60.780\n",
      "Fit quality: 0.825\n",
      "Processing pico hit 20\n",
      "Time of pico hit 20: 15.051 tpx_idx=60\n",
      "Epoch time: 81.339, TPX time: 15.051, Diff: 66.287\n",
      "Fit quality: 0.5476190476190477\n",
      "Processing pico hit 21\n",
      "Time of pico hit 21: 16.215 tpx_idx=62\n",
      "Epoch time: 87.339, TPX time: 16.215, Diff: 71.124\n",
      "Fit quality: 0.8478260869565217\n",
      "Processing pico hit 22\n",
      "Time of pico hit 22: 16.259 tpx_idx=63\n",
      "Epoch time: 87.339, TPX time: 16.259, Diff: 71.079\n",
      "Fit quality: 0.975\n",
      "Processing pico hit 23\n",
      "Time of pico hit 23: 16.468 tpx_idx=64\n",
      "Epoch time: 88.338, TPX time: 16.468, Diff: 71.870\n",
      "Fit quality: 0.95\n",
      "Processing pico hit 24\n",
      "Time of pico hit 24: 83.276 tpx_idx=290\n",
      "Epoch time: 89.339, TPX time: 83.276, Diff: 6.062\n",
      "Fit quality: 0.9705882352941176\n",
      "Processing pico hit 25\n",
      "Time of pico hit 25: 17.589 tpx_idx=66\n",
      "Epoch time: 94.339, TPX time: 17.589, Diff: 76.750\n",
      "Fit quality: 0.8787878787878788\n",
      "Processing pico hit 26\n",
      "Time of pico hit 26: 18.225 tpx_idx=70\n",
      "Epoch time: 97.340, TPX time: 18.225, Diff: 79.115\n",
      "Fit quality: 0.9333333333333333\n",
      "Processing pico hit 27\n",
      "Time of pico hit 27: 18.502 tpx_idx=71\n",
      "Epoch time: 98.339, TPX time: 18.502, Diff: 79.838\n",
      "Fit quality: 0.8181818181818182\n",
      "Processing pico hit 28\n",
      "Time of pico hit 28: 19.154 tpx_idx=74\n",
      "Epoch time: 102.340, TPX time: 19.154, Diff: 83.186\n",
      "Fit quality: 0.7948717948717948\n",
      "Processing pico hit 29\n",
      "Time of pico hit 29: 20.964 tpx_idx=77\n",
      "Epoch time: 110.339, TPX time: 20.964, Diff: 89.375\n",
      "Fit quality: 0.9565217391304348\n",
      "Processing pico hit 30\n",
      "Time of pico hit 30: 21.396 tpx_idx=78\n",
      "Epoch time: 112.341, TPX time: 21.396, Diff: 90.945\n",
      "Fit quality: 0.8\n",
      "Processing pico hit 31\n",
      "Time of pico hit 31: 107.016 tpx_idx=370\n",
      "Epoch time: 113.341, TPX time: 107.016, Diff: 6.325\n",
      "Fit quality: 0.8823529411764706\n",
      "Processing pico hit 32\n",
      "Time of pico hit 32: 24.232 tpx_idx=84\n",
      "Epoch time: 115.339, TPX time: 24.232, Diff: 91.108\n",
      "Fit quality: 0.875\n",
      "Processing pico hit 33\n",
      "Time of pico hit 33: 24.725 tpx_idx=85\n",
      "Epoch time: 115.339, TPX time: 24.725, Diff: 90.614\n",
      "Fit quality: 0.8823529411764706\n",
      "Processing pico hit 34\n",
      "Time of pico hit 34: 25.359 tpx_idx=86\n",
      "Epoch time: 116.340, TPX time: 25.359, Diff: 90.981\n",
      "Fit quality: 1.0\n",
      "Processing pico hit 35\n",
      "Time of pico hit 35: 30.101 tpx_idx=98\n",
      "Epoch time: 120.340, TPX time: 30.101, Diff: 90.238\n",
      "Fit quality: 0.9736842105263158\n",
      "Processing pico hit 36\n",
      "Time of pico hit 36: 36.218 tpx_idx=117\n",
      "Epoch time: 126.340, TPX time: 36.218, Diff: 90.122\n",
      "Fit quality: 0.8478260869565217\n",
      "Processing pico hit 37\n",
      "Time of pico hit 37: 46.480 tpx_idx=153\n",
      "Epoch time: 136.339, TPX time: 46.480, Diff: 89.859\n",
      "Fit quality: 0.9444444444444444\n",
      "Processing pico hit 38\n",
      "Time of pico hit 38: 52.922 tpx_idx=173\n",
      "Epoch time: 142.340, TPX time: 52.922, Diff: 89.418\n",
      "Fit quality: 0.8918918918918919\n",
      "Processing pico hit 39\n",
      "Time of pico hit 39: 92.749 tpx_idx=323\n",
      "Epoch time: 144.340, TPX time: 92.749, Diff: 51.591\n",
      "Fit quality: 0.6739130434782609\n",
      "Processing pico hit 40\n",
      "Time of pico hit 40: 54.907 tpx_idx=180\n",
      "Epoch time: 144.340, TPX time: 54.907, Diff: 89.434\n",
      "Fit quality: 0.813953488372093\n",
      "Processing pico hit 41\n",
      "Time of pico hit 41: 55.337 tpx_idx=181\n",
      "Epoch time: 145.340, TPX time: 55.337, Diff: 90.004\n",
      "Fit quality: 0.8421052631578947\n",
      "Processing pico hit 42\n",
      "Time of pico hit 42: 59.241 tpx_idx=197\n",
      "Epoch time: 148.340, TPX time: 59.241, Diff: 89.099\n",
      "Fit quality: 0.851063829787234\n"
     ]
    }
   ],
   "execution_count": 8
  },
  {
   "metadata": {
    "ExecuteTime": {
     "end_time": "2024-10-17T19:22:19.911203Z",
     "start_time": "2024-10-17T19:22:19.849212Z"
    }
   },
   "cell_type": "code",
   "source": [
    "plt.figure()\n",
    "plt.plot(fit_qualities, c=\"r\",lw=0.5)\n",
    "plt.twinx()\n",
    "plt.plot(np.where(np.asarray(fit_qualities)>0, diffs, np.nan), c=\"b\", marker=\"o\", lw=0)\n",
    "# plt.ylim(-fixed_diff-tolerance,-fixed_diff+tolerance)\n",
    "\n",
    "plt.figure()\n",
    "plt.scatter(np.where(np.asarray(fit_qualities)>0, diffs, np.nan),fit_qualities)"
   ],
   "id": "94b4f0eba99a69ce",
   "outputs": [
    {
     "data": {
      "text/plain": [
       "<matplotlib.collections.PathCollection at 0x1d03e0af3d0>"
      ]
     },
     "execution_count": 9,
     "metadata": {},
     "output_type": "execute_result"
    }
   ],
   "execution_count": 9
  },
  {
   "metadata": {
    "jupyter": {
     "is_executing": true
    },
    "ExecuteTime": {
     "start_time": "2024-10-17T19:22:23.324477Z"
    }
   },
   "cell_type": "code",
   "source": [
    "plt.figure()\n",
    "plt.scatter(np.arange(len(np_hits)),np_hits, s=1)\n",
    "plt.scatter(np.arange(len(pico_hits)),[pico_hit[3] for pico_hit in pico_hits], s=1)\n",
    "for i,j in enumerate(tpx_idxs):\n",
    "    if i*j==0:\n",
    "        continue\n",
    "    plt.plot([j,i],[np_hits[j],pico_hits[i][3]], c=\"r\", lw=0.2, ls=\"--\")\n",
    "\n",
    "\n",
    "\n",
    "print(max(np_hits)/1e9)\n",
    "print(max([pico_hit[3] for pico_hit in pico_hits])/1e9)\n",
    "plt.show()"
   ],
   "id": "9e77e9b01f6c8052",
   "outputs": [],
   "execution_count": null
  },
  {
   "metadata": {
    "ExecuteTime": {
     "end_time": "2024-10-17T19:19:33.320658Z",
     "start_time": "2024-10-17T19:19:31.310709Z"
    }
   },
   "cell_type": "code",
   "source": [
    "plt.figure()\n",
    "plt.plot(pico_hits[-5][0],pico_hits[-5][1])\n",
    "plt.plot(pico_hits[0][0],pico_hits[0][1])\n",
    "plt.show()"
   ],
   "id": "c8280fb3b4e564f3",
   "outputs": [],
   "execution_count": 6
  },
  {
   "metadata": {
    "ExecuteTime": {
     "end_time": "2024-10-17T19:19:33.336316Z",
     "start_time": "2024-10-17T19:19:33.320658Z"
    }
   },
   "cell_type": "code",
   "source": "",
   "id": "31d3a781d9fbc443",
   "outputs": [],
   "execution_count": 6
  }
 ],
 "metadata": {
  "kernelspec": {
   "display_name": "Python 3",
   "language": "python",
   "name": "python3"
  },
  "language_info": {
   "codemirror_mode": {
    "name": "ipython",
    "version": 2
   },
   "file_extension": ".py",
   "mimetype": "text/x-python",
   "name": "python",
   "nbconvert_exporter": "python",
   "pygments_lexer": "ipython2",
   "version": "2.7.6"
  }
 },
 "nbformat": 4,
 "nbformat_minor": 5
}
